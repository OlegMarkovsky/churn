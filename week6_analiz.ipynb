{
 "cells": [
  {
   "cell_type": "code",
   "execution_count": 1,
   "metadata": {},
   "outputs": [],
   "source": [
    "import numpy as np\n",
    "import pandas as pd\n",
    "import matplotlib.pyplot as plt\n",
    "%matplotlib inline\n",
    "from sklearn.preprocessing import StandardScaler,LabelEncoder\n",
    "from sklearn.linear_model import LogisticRegression\n",
    "from sklearn.ensemble import GradientBoostingClassifier\n",
    "from sklearn.model_selection import cross_val_score,train_test_split,StratifiedKFold,GridSearchCV\n",
    "from sklearn.metrics import roc_auc_score,accuracy_score,classification_report,f1_score\n",
    "from sklearn.metrics import average_precision_score, precision_score, recall_score, accuracy_score,precision_recall_curve\n",
    "from sklearn.pipeline import Pipeline\n",
    "from sklearn.feature_selection import SelectFromModel"
   ]
  },
  {
   "cell_type": "markdown",
   "metadata": {},
   "source": [
    "Постройте простую экономическую модель для оценки эффекта от внедрения полученного решения на практике. \n",
    "Например, введите следующие параметры:\n",
    "\n",
    "сколько денег в среднем приносит один пользователь в месяц;\n",
    "\n",
    "сколько денег в среднем вы будете вкладывать в удержание одного пользователя;\n",
    "\n",
    "с какой вероятностью пользователь примет ваше предложение;\n",
    "\n",
    "сколько пользователей (например, топ 1% или топ 25% согласно ранжированию по вашей модели) будет участвовать в кампании.\n",
    "\n"
   ]
  },
  {
   "cell_type": "markdown",
   "metadata": {},
   "source": [
    "1.Введите еще несколько параметров и на их основе постройте простую экономическую модель: формулу по которой в зависимости от значения исходных параметров вы сможете рассчитать экономический эффект от проведения кампании (= сколько денег вы получили (или наоборот потеряли) от проведения кампании по удержанию) с использование вашей модели."
   ]
  },
  {
   "cell_type": "code",
   "execution_count": 172,
   "metadata": {},
   "outputs": [],
   "source": [
    "ARPU=300 #сколько денег в среднем приносит один пользователь в месяц;\n",
    "DPU=ARPU/100*15 #сколько денег в среднем вы будете вкладывать в удержание одного пользователя\n",
    "AP =0.5 #с какой вероятностью пользователь примет ваше предложение;\n",
    "TopU=0.03 #сколько пользователей (например, топ 1% или топ 25% согласно ранжированию по вашей модели) будет участвовать в кампании."
   ]
  },
  {
   "cell_type": "code",
   "execution_count": 53,
   "metadata": {},
   "outputs": [
    {
     "data": {
      "text/plain": [
       "45"
      ]
     },
     "execution_count": 53,
     "metadata": {},
     "output_type": "execute_result"
    }
   ],
   "source": [
    "DPU"
   ]
  },
  {
   "cell_type": "markdown",
   "metadata": {},
   "source": [
    "Сначала загрузим данные и подготовим модель"
   ]
  },
  {
   "cell_type": "code",
   "execution_count": 2,
   "metadata": {},
   "outputs": [],
   "source": [
    "data=pd.read_csv('orange_small_churn_train_data.csv')\n",
    "data=data.drop('ID',1)"
   ]
  },
  {
   "cell_type": "code",
   "execution_count": 3,
   "metadata": {
    "collapsed": true
   },
   "outputs": [],
   "source": [
    "X_data=data.iloc[:,:230]\n",
    "y_data=data.iloc[:,230:]"
   ]
  },
  {
   "cell_type": "code",
   "execution_count": 4,
   "metadata": {
    "collapsed": true
   },
   "outputs": [],
   "source": [
    "def preproceccing(X,number_features,fill,coding):\n",
    "    #Отбросим колонки где данных вообще нет\n",
    "    zero=list()\n",
    "    print ((X.shape[0]))\n",
    "    for var in X.columns:\n",
    "        if (sum(X[var].isnull()) / float(X.shape[0]))>0.9:zero.append(var)\n",
    "    print 'Колонки ,которые мы отбросили', len(zero)\n",
    "    real_columns=X.columns.drop(zero)\n",
    "    print 'Осталось:',len(real_columns)\n",
    "    X=X[real_columns]\n",
    "    #Из 230 колонок выбросли уже 154 где нет данных или они заполнены менее чем на 10%\n",
    "    #разделим на вещ. и категориальные и заполним вещ.пропуски средними,а пропуски категории \"NA\"\n",
    "    num_columns=[]\n",
    "    cat_columns=[]\n",
    "    for var in X.columns:\n",
    "        if (X[var].dtype=='float64')or (X[var].dtype=='int64'):num_columns.append(var) \n",
    "        else: cat_columns.append(var) #X[var].dtype=='object'\n",
    "    num_data=X[num_columns]\n",
    "    print 'num_data',num_data.shape\n",
    "    cat_data=X[cat_columns]\n",
    "    print 'cat_data',cat_data.shape\n",
    "    if fill==0: \n",
    "        num_data_mean=num_data.fillna(0)\n",
    "        print fill\n",
    "    else:\n",
    "        num_data_mean=num_data.fillna(num_data.mean())\n",
    "        print fill\n",
    "    cat_data=cat_data.fillna('NA')\n",
    "    #Мы видели что есть кат признаки с кол-вом категорий более 10000.Возможно это фамилии или персональные данные,\n",
    "    #которые сейчас нам будут только мешать.\n",
    "    #Ясно что эти признаки надо убрать, будут только шуметь.Оставим только только признаки с числом категорий меньше\n",
    "    #number_features\n",
    "    k=0\n",
    "    new=list()\n",
    "    for var in cat_columns:\n",
    "        if len(cat_data[var].value_counts())!=1 and len(cat_data[var].value_counts())<number_features : \n",
    "            k+=1\n",
    "            #print 'X_train',var,len(cat_data.iloc[:40000,:][var].value_counts()),'   X_test',var,len(cat_data.iloc[40000:,:][var].value_counts())\n",
    "            new.append(var)\n",
    "    #print new\n",
    "    print 'Признаки которые мы оставили',k\n",
    "    cat=cat_data[new]\n",
    "    cat_columns=cat.columns.tolist()\n",
    "    feature_names=num_columns+cat_columns\n",
    "    #Кодируем их\n",
    "    if coding=='OneHot':\n",
    "        cat_code = cat.apply(LabelEncoder().fit_transform)\n",
    "        cat_code = OneHotEncoder(sparse=False).fit_transform(cat_code)\n",
    "        print (coding)\n",
    "    if coding=='Label':\n",
    "        cat_code = cat.apply(LabelEncoder().fit_transform)\n",
    "        print (coding)\n",
    "    print cat_code.shape\n",
    "    #Масштабируем признаки\n",
    "    num_data_mean=StandardScaler().fit_transform(num_data_mean)\n",
    "    #Собираем признаки вместе\n",
    "    X_select=np.hstack( (num_data_mean,cat_code))\n",
    "    print X_select.shape\n",
    "        \n",
    "    return  X_select,feature_names"
   ]
  },
  {
   "cell_type": "code",
   "execution_count": 58,
   "metadata": {},
   "outputs": [
    {
     "name": "stdout",
     "output_type": "stream",
     "text": [
      "40000\n",
      "Колонки ,которые мы отбросили 154\n",
      "Осталось: 76\n",
      "num_data (40000, 42)\n",
      "cat_data (40000, 34)\n",
      "1\n",
      "Признаки которые мы оставили 25\n",
      "Label\n",
      "(40000, 25)\n",
      "(40000L, 67L)\n",
      "f1                0.721324266024\n",
      "average_precision 0.772521101813\n",
      "roc_auc           0.790392172492\n"
     ]
    }
   ],
   "source": [
    "X_select,feature_names = preproceccing(X_data,number_features=1000,fill=1,coding='Label')\n",
    "X, X_holdout, y, y_holdout = train_test_split(X_select, np.array(y_data).reshape(40000,), \n",
    "                                              test_size=0.3, random_state=0, stratify=y_data)\n",
    "#балансировка\n",
    "np.random.seed(1)\n",
    "indices_to_add = np.random.randint(np.sum(y==1),size=(np.sum(y==-1)-np.sum(y==1)))\n",
    "X_a =X[y == 1,:][indices_to_add,:]\n",
    "X_add=np.vstack( (X,X_a) )\n",
    "ones= np.ones((np.sum(y==-1)-np.sum(y==1)))\n",
    "y_add=np.hstack((y, ones))\n",
    "y_add.shape\n",
    "#обучение\n",
    "clf=GradientBoostingClassifier(n_estimators=200,learning_rate=0.05,random_state=1)\n",
    "cv=StratifiedKFold(n_splits=3)\n",
    "f1=cross_val_score(clf, X_add, y_add, scoring='f1',cv=cv)\n",
    "avr=cross_val_score(clf,X_add,y_add,scoring = 'average_precision',cv=cv)\n",
    "auc=cross_val_score(clf,X_add,y_add,scoring = 'roc_auc',cv=cv)\n",
    "print 'f1               ',f1.mean()\n",
    "print 'average_precision',avr.mean()\n",
    "print 'roc_auc          ',auc.mean()"
   ]
  },
  {
   "cell_type": "code",
   "execution_count": 59,
   "metadata": {},
   "outputs": [
    {
     "name": "stdout",
     "output_type": "stream",
     "text": [
      "avp_test               0.210569063222\n",
      "roc_auc_test           0.739237465231\n"
     ]
    }
   ],
   "source": [
    "clf.fit(X_add, y_add)\n",
    "gb_predictions=clf.predict_proba(X_holdout)\n",
    "gb_predictions1=clf.predict(X_holdout)\n",
    "auc=roc_auc_score(y_holdout,gb_predictions[:,1]  )\n",
    "avp=average_precision_score(y_holdout,gb_predictions[:,1]  )\n",
    "print 'avp_test              ',avp\n",
    "print 'roc_auc_test          ',auc"
   ]
  },
  {
   "cell_type": "markdown",
   "metadata": {},
   "source": [
    "-Cформируем датафрейм с вероятностью для класса отток и реальными тестовыми метками класса.\n",
    "-Отранжируем по уменьшению вероятности тех кто по мнению классификатора склонен к оттоку,т.е. вероятностью принадлежности к классу 1\n",
    "-Вычисляем топ-3% пользователей"
   ]
  },
  {
   "cell_type": "code",
   "execution_count": 175,
   "metadata": {},
   "outputs": [
    {
     "name": "stdout",
     "output_type": "stream",
     "text": [
      "360\n",
      "12000\n"
     ]
    }
   ],
   "source": [
    "predict = pd.DataFrame({'predict_label':gb_predictions[:,1],'test_label':y_holdout})\n",
    "churn=predict.sort_values('predict_label',ascending=False)\n",
    "top_users=churn.head(int(TopU*len(churn)))\n",
    "print len(top_users)\n",
    "print len(churn)"
   ]
  },
  {
   "cell_type": "code",
   "execution_count": 176,
   "metadata": {},
   "outputs": [
    {
     "name": "stdout",
     "output_type": "stream",
     "text": [
      "119\n",
      "Сумма, потраченная на компанию:  16200\n",
      "Сумма, которую принесут реально удержанные клиенты:  17850.0\n",
      "Прибыль: 1650.0\n"
     ]
    }
   ],
   "source": [
    "cost = DPU * len(top_users)\n",
    "real_churn=top_users[top_users.test_label == 1]\n",
    "print len(real_churn)\n",
    "false_churn=top_users[top_users.test_label ==-1]\n",
    "revenue = ARPU * AP * len(real_churn)\n",
    "profit_loss = revenue-cost\n",
    "print 'Сумма, потраченная на компанию: ', cost\n",
    "print 'Сумма, которую принесут реально удержанные клиенты: ', revenue\n",
    "print 'Прибыль:', profit_loss"
   ]
  },
  {
   "cell_type": "markdown",
   "metadata": {},
   "source": [
    "2.Исходя из введенных параметров проанализируйте, какой топ пользователей, склонных к оттоку согласно модели, оптимально выбрать для проведения кампании по удержанию для таким образом, чтобы экономический эффект был наибольшим"
   ]
  },
  {
   "cell_type": "code",
   "execution_count": null,
   "metadata": {
    "collapsed": true
   },
   "outputs": [],
   "source": [
    "#Поэкспериментруем с топ % и посмотрим визуально на графике"
   ]
  },
  {
   "cell_type": "code",
   "execution_count": 177,
   "metadata": {},
   "outputs": [
    {
     "data": {
      "text/plain": [
       "<matplotlib.text.Text at 0x1683b400>"
      ]
     },
     "execution_count": 177,
     "metadata": {},
     "output_type": "execute_result"
    },
    {
     "data": {
      "image/png": "[encoded data removed]",
      "text/plain": [
       "<matplotlib.figure.Figure at 0x140c3358>"
      ]
     },
     "metadata": {},
     "output_type": "display_data"
    }
   ],
   "source": [
    "n=np.linspace(0.01,0.05,30)#величина в процентах\n",
    "profit_loss=np.ones(30)\n",
    "for i in range (30):\n",
    "    TopU=n[i]\n",
    "    top_users=churn.head(int(TopU*len(churn)))\n",
    "    cost = DPU * len(top_users)\n",
    "    real_churn=top_users[top_users.test_label == 1]\n",
    "    revenue= ARPU * AP * len(real_churn)\n",
    "    profit_loss[i] = revenue-cost\n",
    "plt.figure(figsize=(8, 5))\n",
    "plt.plot(n, profit_loss, color='red')\n",
    "plt.legend(loc=\"upper right\", bbox_to_anchor=(1.4, 0.95))\n",
    "plt.grid()\n",
    "#plt.xlim(0.0,0.14)\n",
    "plt.xlabel(\"top%\")\n",
    "plt.ylabel(\"Profit-Loss\")\n",
    "plt.title(\"Profit_loss\")"
   ]
  },
  {
   "cell_type": "code",
   "execution_count": 178,
   "metadata": {},
   "outputs": [
    {
     "name": "stdout",
     "output_type": "stream",
     "text": [
      "Максимум достигается при размере топа, % 2.37931034483 эффект,руб. 2175.0\n"
     ]
    }
   ],
   "source": [
    "print 'Максимум достигается при размере топа, %',n[np.argmax(profit_loss)]*100,'эффект,руб.', profit_loss.max()"
   ]
  },
  {
   "cell_type": "markdown",
   "metadata": {},
   "source": [
    "Если мы внимательно посмотрим на формулу профита , то при неизменных ARPU,DPU,AP на прибыль влияет точность модели и порог вероятности .У нас есть метрика precision_recall_curve, которая как раз выдает набор presicion и thresholds.Точка на кривой,определяющая порог и точность - соответствующий максимум прибыли, однозначно определяет топ-% пользователей текущей модели. "
   ]
  },
  {
   "cell_type": "code",
   "execution_count": 179,
   "metadata": {},
   "outputs": [
    {
     "data": {
      "text/plain": [
       "<matplotlib.legend.Legend at 0x13d92198>"
      ]
     },
     "execution_count": 179,
     "metadata": {},
     "output_type": "execute_result"
    },
    {
     "data": {
      "image/png": "[encoded data removed]",
      "text/plain": [
       "<matplotlib.figure.Figure at 0x13b90ba8>"
      ]
     },
     "metadata": {},
     "output_type": "display_data"
    }
   ],
   "source": [
    "precision, recall, thresholds =  precision_recall_curve(y_holdout, gb_predictions[:,1])\n",
    "plt.figure(figsize=(8, 8))\n",
    "plt.ylim(0.1,0.76)\n",
    "plt.plot(recall, precision, label=\"Precision-Recall curve\")\n",
    "plt.legend()"
   ]
  },
  {
   "cell_type": "code",
   "execution_count": 180,
   "metadata": {},
   "outputs": [
    {
     "name": "stdout",
     "output_type": "stream",
     "text": [
      "Лучший эффект достигается при использовании топ-% пользователей 2.68\n",
      "Соотв. precision: 0.346749226006\n",
      "Соотв. recall:    0.125419932811\n",
      "Соотв. порог кл.: 0.77160946837\n",
      "Соотв. эффект   : 2257.9876161 руб.\n"
     ]
    }
   ],
   "source": [
    "max_profit =0\n",
    "churn=predict.sort_values('predict_label',ascending=False)\n",
    "profit_loss=[]\n",
    "top=[]\n",
    "TopU=0\n",
    "for p, r, t in zip(precision[:-1], recall[:-1], thresholds):\n",
    "    top_users=churn[churn.predict_label>t]\n",
    "    cost = DPU * len(top_users)\n",
    "    real_churn=float(len(top_users))*p\n",
    "    revenue= ARPU * AP * real_churn\n",
    "    profit_loss.append(revenue-cost)\n",
    "    top.append(float(len(top_users))/float(len(churn)))\n",
    "    if profit_loss[-1]>max_profit:\n",
    "        max_profit=profit_loss[-1]\n",
    "        max_t=t\n",
    "        max_p=p\n",
    "        max_r=r\n",
    "        TopU=top[-1]\n",
    "print \"Лучший эффект достигается при использовании топ-% пользователей\" , round(TopU*100,2)\n",
    "print \"Соотв. precision:\", max_p\n",
    "print \"Соотв. recall:   \", max_r\n",
    "print \"Соотв. порог кл.:\", max_t\n",
    "print \"Соотв. эффект   :\", float(max_profit), \"руб.\"\n",
    "profit1=max_profit"
   ]
  },
  {
   "cell_type": "code",
   "execution_count": 181,
   "metadata": {},
   "outputs": [
    {
     "data": {
      "text/plain": [
       "<matplotlib.text.Text at 0x140e6c88>"
      ]
     },
     "execution_count": 181,
     "metadata": {},
     "output_type": "execute_result"
    },
    {
     "data": {
      "image/png": "[encoded data removed]",
      "text/plain": [
       "<matplotlib.figure.Figure at 0x26e72e10>"
      ]
     },
     "metadata": {},
     "output_type": "display_data"
    }
   ],
   "source": [
    "plt.figure(figsize=(8, 5))\n",
    "plt.plot(top, profit_loss, color='red')\n",
    "plt.legend(loc=\"upper right\", bbox_to_anchor=(1.4, 0.95))\n",
    "plt.grid()\n",
    "plt.xlim(0.0,0.1)\n",
    "plt.ylim(-10000,5000)\n",
    "plt.xlabel(\"top%\")\n",
    "plt.ylabel(\"Profit-Loss\")\n",
    "plt.title(\"Profit_loss\")"
   ]
  },
  {
   "cell_type": "markdown",
   "metadata": {},
   "source": [
    "3.Попробуйте усложнить экономическую модель. Добавьте еще несколько параметров и поиграйте с ними (например, измените стоимость удержания и вероятность, с которой пользователь принимает предложение), проанализируйте как меняется оптимальный размер топа? "
   ]
  },
  {
   "cell_type": "markdown",
   "metadata": {},
   "source": [
    "Поэкспериментруем с затратами на удержание в % от ARPU и вероятностью принятия скидки"
   ]
  },
  {
   "cell_type": "code",
   "execution_count": 148,
   "metadata": {},
   "outputs": [
    {
     "name": "stdout",
     "output_type": "stream",
     "text": [
      "Скидка, % 10.0 Вероятность принятия 0.3\n",
      "Лучший эффект достигается при использовании топ-% пользователей 1.0\n",
      "Соотв. precision: 0.421487603306\n",
      "Соотв. recall:    0.057110862262\n",
      "Соотв. порог кл.: 0.812743703224\n",
      "Соотв. эффект   : 952.066115702 руб.\n",
      "Скидка, % 10.0 Вероятность принятия 0.5\n",
      "Лучший эффект достигается при использовании топ-% пользователей 5.53\n",
      "Соотв. precision: 0.293233082707\n",
      "Соотв. recall:    0.21836506159\n",
      "Соотв. порог кл.: 0.724681371178\n",
      "Соотв. эффект   : 9286.01503759 руб.\n",
      "Скидка, % 10.0 Вероятность принятия 0.7\n",
      "Лучший эффект достигается при использовании топ-% пользователей 9.87\n",
      "Соотв. precision: 0.24641350211\n",
      "Соотв. recall:    0.326987681971\n",
      "Соотв. порог кл.: 0.663915011173\n",
      "Соотв. эффект   : 25748.2531646 руб.\n",
      "Скидка, % 15.0 Вероятность принятия 0.3\n",
      "Лучший эффект достигается при использовании топ-% пользователей 0.24\n",
      "Соотв. precision: 0.566666666667\n",
      "Соотв. recall:    0.0190369540873\n",
      "Соотв. порог кл.: 0.857234250283\n",
      "Соотв. эффект   : 174.0 руб.\n",
      "Скидка, % 15.0 Вероятность принятия 0.5\n",
      "Лучший эффект достигается при использовании топ-% пользователей 2.68\n",
      "Соотв. precision: 0.346749226006\n",
      "Соотв. recall:    0.125419932811\n",
      "Соотв. порог кл.: 0.77160946837\n",
      "Соотв. эффект   : 2257.9876161 руб.\n",
      "Скидка, % 15.0 Вероятность принятия 0.7\n",
      "Лучший эффект достигается при использовании топ-% пользователей 5.49\n",
      "Соотв. precision: 0.293939393939\n",
      "Соотв. recall:    0.217245240761\n",
      "Соотв. порог кл.: 0.725455856649\n",
      "Соотв. эффект   : 11023.2727273 руб.\n",
      "Скидка, % 30.0 Вероятность принятия 0.3\n",
      "Лучший эффект достигается при использовании топ-% пользователей 0.0\n",
      "Соотв. precision: 0.293939393939\n",
      "Соотв. recall:    0.217245240761\n",
      "Соотв. порог кл.: 0.725455856649\n",
      "Соотв. эффект   : 0.0 руб.\n",
      "Скидка, % 30.0 Вероятность принятия 0.5\n",
      "Лучший эффект достигается при использовании топ-% пользователей 0.03\n",
      "Соотв. precision: 1.0\n",
      "Соотв. recall:    0.00447928331467\n",
      "Соотв. порог кл.: 0.8826087731\n",
      "Соотв. эффект   : 180.0 руб.\n",
      "Скидка, % 30.0 Вероятность принятия 0.7\n",
      "Лучший эффект достигается при использовании топ-% пользователей 0.24\n",
      "Соотв. precision: 0.566666666667\n",
      "Соотв. recall:    0.0190369540873\n",
      "Соотв. порог кл.: 0.857234250283\n",
      "Соотв. эффект   : 841.0 руб.\n"
     ]
    },
    {
     "data": {
      "image/png": "[encoded data removed]",
      "text/plain": [
       "<matplotlib.figure.Figure at 0x263ddbe0>"
      ]
     },
     "metadata": {},
     "output_type": "display_data"
    }
   ],
   "source": [
    "ARPU=300.0\n",
    "plt.figure(figsize=(15,4))\n",
    "i = 0\n",
    "for d in [0.10, 0.15, 0.3]:# скидка на услуги для удержания клиента, % от ARPU     \n",
    "    i += 1\n",
    "    ax = plt.subplot(1, 3, i)\n",
    "    for AP in [0.3, 0.5, 0.7]:  # Вероятность удержания пользователя предлагаемой скидкой\n",
    "        max_profit =0\n",
    "        profit_loss=[]\n",
    "        top=[]\n",
    "        TopU=0\n",
    "        for p, r, t in zip(precision[:-1], recall[:-1], thresholds):\n",
    "            top_users=churn[churn.predict_label>t]\n",
    "            cost = ARPU*d * len(top_users)\n",
    "            real_churn=float(len(top_users))*p\n",
    "            revenue= ARPU * AP * real_churn\n",
    "            profit_loss.append(revenue-cost)\n",
    "            top.append(float(len(top_users))/float(len(churn)))\n",
    "            if profit_loss[-1]>max_profit:\n",
    "                max_profit=profit_loss[-1]\n",
    "                max_t=t\n",
    "                max_p=p\n",
    "                max_r=r\n",
    "                TopU=top[-1]\n",
    "        print 'Скидка, %',d*100, 'Вероятность принятия',AP\n",
    "        print \"Лучший эффект достигается при использовании топ-% пользователей\" , round(TopU*100,2)\n",
    "        print \"Соотв. precision:\", max_p\n",
    "        print \"Соотв. recall:   \", max_r\n",
    "        print \"Соотв. порог кл.:\", max_t\n",
    "        print \"Соотв. эффект   :\", float(max_profit), \"руб.\"\n",
    "        plt.plot(top, profit_loss, label=str(AP))\n",
    "        plt.title(str(d*100))\n",
    "        plt.legend(loc=\"upper right\", bbox_to_anchor=(1.4, 0.95))\n",
    "        plt.grid()\n",
    "        plt.xlim(0.0,0.1)\n",
    "        plt.ylim(-10000,5000)\n",
    "        plt.xlabel(\"top%\")\n",
    "        plt.ylabel(\"Profit-Loss\")"
   ]
  },
  {
   "cell_type": "code",
   "execution_count": null,
   "metadata": {
    "collapsed": true
   },
   "outputs": [],
   "source": [
    "#Чем меньше скидка и чем с большей вероятностью принята,тем больше эффект.\n",
    "#Лучший результат Скидка 10% и вероятность ее принятия 0.7"
   ]
  },
  {
   "cell_type": "markdown",
   "metadata": {},
   "source": [
    "4.Всегда ли применение модели экономически оправданно? Приведите пример набора значений параметров, при которых применение модели перестает быть оправданным"
   ]
  },
  {
   "cell_type": "code",
   "execution_count": null,
   "metadata": {
    "collapsed": true
   },
   "outputs": [],
   "source": [
    "#Модель теряет смысл при скидках от 30% или вероятности принятия меньше 0,3"
   ]
  },
  {
   "cell_type": "markdown",
   "metadata": {},
   "source": [
    "5.Оцените изменение экономического эффекта от проведения кампании по удержанию при увеличении качества модели на 1%? На 3%? При ответе на вопрос укажите, по какой метрике вы оцениваете качество."
   ]
  },
  {
   "cell_type": "code",
   "execution_count": null,
   "metadata": {
    "collapsed": true
   },
   "outputs": [],
   "source": [
    "#Точность модели здесь главная метрика.Оцениваем по ней"
   ]
  },
  {
   "cell_type": "code",
   "execution_count": null,
   "metadata": {
    "collapsed": true
   },
   "outputs": [],
   "source": [
    "ARPU=300 #сколько денег в среднем приносит один пользователь в месяц;\n",
    "DPU=ARPU/100*15 #сколько денег в среднем вы будете вкладывать в удержание одного пользователя\n",
    "AP =0.5 #с какой вероятностью пользователь примет ваше предложение;"
   ]
  },
  {
   "cell_type": "code",
   "execution_count": 153,
   "metadata": {},
   "outputs": [
    {
     "name": "stdout",
     "output_type": "stream",
     "text": [
      "Лучший эффект достигается при использовании топ-% пользователей 2.68\n",
      "Соотв. precision: 0.346749226006\n",
      "Соотв. recall:    0.125419932811\n",
      "Соотв. порог кл.: 0.77160946837\n",
      "Соотв. эффект   : 2740.9876161 руб.\n"
     ]
    }
   ],
   "source": [
    "max_profit =0\n",
    "churn=predict.sort_values('predict_label',ascending=False)\n",
    "profit_loss=[]\n",
    "top=[]\n",
    "TopU=0\n",
    "for p, r, t in zip(precision[:-1], recall[:-1], thresholds):\n",
    "    top_users=churn[churn.predict_label>t]\n",
    "    cost = DPU * len(top_users)\n",
    "    real_churn=float(len(top_users))*(p+0.01)# увеличим точность на 1%\n",
    "    revenue= ARPU * AP * real_churn\n",
    "    profit_loss.append(revenue-cost)\n",
    "    top.append(float(len(top_users))/float(len(churn)))\n",
    "    if profit_loss[-1]>max_profit:\n",
    "        max_profit=profit_loss[-1]\n",
    "        max_t=t\n",
    "        max_p=p\n",
    "        max_r=r\n",
    "        TopU=top[-1]\n",
    "print \"Лучший эффект достигается при использовании топ-% пользователей\" , round(TopU*100,2)\n",
    "print \"Соотв. precision:\", max_p\n",
    "print \"Соотв. recall:   \", max_r\n",
    "print \"Соотв. порог кл.:\", max_t\n",
    "print \"Соотв. эффект   :\", float(max_profit), \"руб.\"\n",
    "profit2=max_profit"
   ]
  },
  {
   "cell_type": "code",
   "execution_count": 165,
   "metadata": {},
   "outputs": [
    {
     "name": "stdout",
     "output_type": "stream",
     "text": [
      "Лучший эффект достигается при использовании топ-% пользователей 2.86\n",
      "Соотв. precision: 0.343023255814\n",
      "Соотв. recall:    0.132138857783\n",
      "Соотв. порог кл.: 0.767991374254\n",
      "Соотв. эффект   : 3757.04651163 руб.\n"
     ]
    }
   ],
   "source": [
    "max_profit =0\n",
    "churn=predict.sort_values('predict_label',ascending=False)\n",
    "profit_loss=[]\n",
    "top=[]\n",
    "TopU=0\n",
    "for p, r, t in zip(precision[:-1], recall[:-1], thresholds):\n",
    "    top_users=churn[churn.predict_label>t]\n",
    "    cost = DPU * len(top_users)\n",
    "    real_churn=float(len(top_users))*(p+0.03)# увеличим точность на 3%\n",
    "    revenue= ARPU * AP * real_churn\n",
    "    profit_loss.append(revenue-cost)\n",
    "    top.append(float(len(top_users))/float(len(churn)))\n",
    "    if profit_loss[-1]>max_profit:\n",
    "        max_profit=profit_loss[-1]\n",
    "        max_t=t\n",
    "        max_p=p\n",
    "        max_r=r\n",
    "        TopU=top[-1]\n",
    "print \"Лучший эффект достигается при использовании топ-% пользователей\" , round(TopU*100,2)\n",
    "print \"Соотв. precision:\", max_p\n",
    "print \"Соотв. recall:   \", max_r\n",
    "print \"Соотв. порог кл.:\", max_t\n",
    "print \"Соотв. эффект   :\", float(max_profit), \"руб.\"\n",
    "profit3=max_profit"
   ]
  },
  {
   "cell_type": "code",
   "execution_count": 166,
   "metadata": {},
   "outputs": [
    {
     "name": "stdout",
     "output_type": "stream",
     "text": [
      "При улучшении точности на 1% экономический эффект:  483.0 руб.\n",
      "При улучшении точности на 3% экономический эффект:  1499.06 руб.\n",
      "Увеличение, соответственно, на  21.4 % и 66.4 %\n"
     ]
    }
   ],
   "source": [
    "print 'При улучшении точности на 1% экономический эффект: ', round(profit2-profit1, 2), 'руб.'\n",
    "print 'При улучшении точности на 3% экономический эффект: ', round(profit3-profit1, 2), 'руб.'\n",
    "print 'Увеличение, соответственно, на ', round(100*(profit2-profit1)/profit1,1), '% и',round(100*(profit3-profit1)/profit1,1), '%'"
   ]
  },
  {
   "cell_type": "markdown",
   "metadata": {},
   "source": [
    "6.Как вы думаете, является ли экономически оправданным вложение средств в улучшение качества модели? На сколько нужно улучшить модель, чтобы это качественно сказалось на экономическом эффекте от удержания?"
   ]
  },
  {
   "cell_type": "code",
   "execution_count": 169,
   "metadata": {
    "collapsed": true
   },
   "outputs": [],
   "source": [
    "#Думаю,да. \n",
    "#Асолютные цифры небольшие,но при увеличении точности процентов на 15-20% (возможно ли?) и топа эффект будет видимым."
   ]
  },
  {
   "cell_type": "code",
   "execution_count": null,
   "metadata": {
    "collapsed": true
   },
   "outputs": [],
   "source": []
  }
 ],
 "metadata": {
  "anaconda-cloud": {},
  "kernelspec": {
   "display_name": "Python 3",
   "language": "python",
   "name": "python3"
  },
  "language_info": {
   "codemirror_mode": {
    "name": "ipython",
    "version": 3
   },
   "file_extension": ".py",
   "mimetype": "text/x-python",
   "name": "python",
   "nbconvert_exporter": "python",
   "pygments_lexer": "ipython3",
   "version": "3.6.5"
  }
 },
 "nbformat": 4,
 "nbformat_minor": 1
}
